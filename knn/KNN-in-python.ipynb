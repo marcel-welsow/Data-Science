{
 "cells": [
  {
   "cell_type": "code",
   "execution_count": 193,
   "metadata": {},
   "outputs": [],
   "source": [
    "import math\n",
    "import random\n",
    "import operator\n",
    "import csv\n",
    "import urllib.request\n",
    "import codecs\n",
    "\n",
    "from sklearn import datasets\n",
    "\n",
    "def loadIrisData(trainingData=[], controlData=[]):\n",
    "    response = urllib.request.urlopen('https://raw.githubusercontent.com/marcel-welsow/Data-Science/master/knn/iris.csv')\n",
    "    irisdata = csv.reader(codecs.iterdecode(response, 'utf-8'))\n",
    "        \n",
    "    dataset = list(irisdata)\n",
    "\n",
    "    for x in range(len(dataset)-1):\n",
    "        for y in range(4):\n",
    "            dataset[x][y] = float(dataset[x][y])\n",
    "            if random.random() < 0.66:\n",
    "                trainingData.append(dataset[x])\n",
    "            else:\n",
    "                controlData.append(dataset[x])\n",
    "    \n",
    "loadIrisData()"
   ]
  },
  {
   "cell_type": "code",
   "execution_count": 194,
   "metadata": {},
   "outputs": [],
   "source": [
    "def euclideanDistance(data1, data2, length):\n",
    "    distance = 0\n",
    "    \n",
    "    for x in range(length):\n",
    "        distance += pow((data1[x] - data2[x]), 2)\n",
    "        \n",
    "    return math.sqrt(distance)"
   ]
  },
  {
   "cell_type": "code",
   "execution_count": 195,
   "metadata": {},
   "outputs": [],
   "source": [
    "def getNeighbors(trainingData, controlData, k):\n",
    "    distances = []\n",
    "    neighbors = []\n",
    "    length = len(controlData)-1\n",
    "    \n",
    "    for x in range(len(trainingData)):\n",
    "        distance = euclideanDistance(controlData, trainingData[x], length)\n",
    "        distances.append((trainingData[x], distance))\n",
    "    \n",
    "    distances.sort(key=operator.itemgetter(1))\n",
    "    \n",
    "    for x in range(k):\n",
    "        neighbors.append(distances[x][0])\n",
    "\n",
    "    return neighbors"
   ]
  },
  {
   "cell_type": "code",
   "execution_count": 196,
   "metadata": {},
   "outputs": [],
   "source": [
    "def getResponse(neighbors):\n",
    "    votes = {}\n",
    "    \n",
    "    for x in range(len(neighbors)):\n",
    "        response = neighbors[x][-1]\n",
    "        \n",
    "        if response in votes:\n",
    "            votes[response] += 1\n",
    "        else:\n",
    "            votes[response] = 1\n",
    "    \n",
    "    sortedVotes = sorted(votes.items(), key=operator.itemgetter(1), reverse=True)\n",
    "\n",
    "    return sortedVotes[0][0]"
   ]
  },
  {
   "cell_type": "code",
   "execution_count": 197,
   "metadata": {},
   "outputs": [
    {
     "name": "stdout",
     "output_type": "stream",
     "text": [
      "Iris-virginica\n"
     ]
    }
   ],
   "source": [
    "trainingData = []\n",
    "controlData = []\n",
    "predictions = []\n",
    "\n",
    "k = 3\n",
    "            \n",
    "loadIrisData(trainingData, controlData)\n",
    "\n",
    "for x in range(len(controlData)):\n",
    "    \n",
    "    neighbors = getNeighbors(trainingData, controlData[x], k)\n",
    "    result = getResponse(neighbors)\n",
    "    \n",
    "    # print('> predicted=' + repr(result) + ', actual=' + repr(controlData[x][-1]))\n",
    "    \n",
    "neighbors = getNeighbors(trainingData, [4.8, 2.5, 5.3, 2.4, ''], k)\n",
    "result = getResponse(neighbors)\n",
    "\n",
    "print (result)"
   ]
  }
 ],
 "metadata": {
  "kernelspec": {
   "display_name": "Python 3",
   "language": "python",
   "name": "python3"
  },
  "language_info": {
   "codemirror_mode": {
    "name": "ipython",
    "version": 3
   },
   "file_extension": ".py",
   "mimetype": "text/x-python",
   "name": "python",
   "nbconvert_exporter": "python",
   "pygments_lexer": "ipython3",
   "version": "3.6.5"
  }
 },
 "nbformat": 4,
 "nbformat_minor": 2
}
