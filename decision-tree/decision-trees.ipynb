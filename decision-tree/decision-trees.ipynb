{
 "cells": [
  {
   "cell_type": "code",
   "execution_count": null,
   "metadata": {},
   "outputs": [],
   "source": [
    "def loadIrisData(trainingData=[], controlData=[]):\n",
    "    response = urllib.request.urlopen('https://raw.githubusercontent.com/marcel-welsow/Data-Science/master/knn/iris.csv')\n",
    "    irisdata = csv.reader(codecs.iterdecode(response, 'utf-8'))\n",
    "        \n",
    "    dataset = list(irisdata)\n",
    "\n",
    "    for x in range(len(dataset)-1):\n",
    "        for y in range(4):\n",
    "            dataset[x][y] = float(dataset[x][y])\n",
    "            if random.random() < 0.66:\n",
    "                trainingData.append(dataset[x])\n",
    "            else:\n",
    "                controlData.append(dataset[x])\n",
    "    \n",
    "loadIrisData()"
   ]
  }
 ],
 "metadata": {
  "kernelspec": {
   "display_name": "Python 3",
   "language": "python",
   "name": "python3"
  },
  "language_info": {
   "codemirror_mode": {
    "name": "ipython",
    "version": 3
   },
   "file_extension": ".py",
   "mimetype": "text/x-python",
   "name": "python",
   "nbconvert_exporter": "python",
   "pygments_lexer": "ipython3",
   "version": "3.6.5"
  }
 },
 "nbformat": 4,
 "nbformat_minor": 2
}
